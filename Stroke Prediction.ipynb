{
 "cells": [
  {
   "cell_type": "markdown",
   "source": [
    "Stroke prediction dataset (@Fedesoriano on Kaggle)"
   ],
   "metadata": {
    "collapsed": false,
    "pycharm": {
     "name": "#%% md\n"
    }
   }
  },
  {
   "cell_type": "code",
   "execution_count": 24,
   "outputs": [],
   "source": [
    "#Load libraries\n",
    "import pandas as pd\n",
    "import numpy as np\n",
    "import matplotlib.pyplot as plt\n",
    "from sklearn.linear_model import LogisticRegression\n",
    "from sklearn.model_selection import train_test_split\n",
    "from sklearn.metrics import accuracy_score, precision_score, recall_score\n"
   ],
   "metadata": {
    "collapsed": false,
    "pycharm": {
     "name": "#%%\n"
    }
   }
  },
  {
   "cell_type": "code",
   "execution_count": 25,
   "outputs": [
    {
     "data": {
      "text/plain": "      Unnamed: 0     id  gender   age  hypertension  heart_disease  \\\n0              0   9046    Male  67.0             0              1   \n1              1  51676  Female  61.0             0              0   \n2              2  31112    Male  80.0             0              1   \n3              3  60182  Female  49.0             0              0   \n4              4   1665  Female  79.0             1              0   \n...          ...    ...     ...   ...           ...            ...   \n5105        5105  18234  Female  80.0             1              0   \n5106        5106  44873  Female  81.0             0              0   \n5107        5107  19723  Female  35.0             0              0   \n5108        5108  37544    Male  51.0             0              0   \n5109        5109  44679  Female  44.0             0              0   \n\n     ever_married      work_type Residence_type  avg_glucose_level   bmi  \\\n0             Yes        Private          Urban             228.69  36.6   \n1             Yes  Self-employed          Rural             202.21   NaN   \n2             Yes        Private          Rural             105.92  32.5   \n3             Yes        Private          Urban             171.23  34.4   \n4             Yes  Self-employed          Rural             174.12  24.0   \n...           ...            ...            ...                ...   ...   \n5105          Yes        Private          Urban              83.75   NaN   \n5106          Yes  Self-employed          Urban             125.20  40.0   \n5107          Yes  Self-employed          Rural              82.99  30.6   \n5108          Yes        Private          Rural             166.29  25.6   \n5109          Yes       Govt_job          Urban              85.28  26.2   \n\n       smoking_status  stroke  \n0     formerly smoked       1  \n1        never smoked       1  \n2        never smoked       1  \n3              smokes       1  \n4        never smoked       1  \n...               ...     ...  \n5105     never smoked       0  \n5106     never smoked       0  \n5107     never smoked       0  \n5108  formerly smoked       0  \n5109          Unknown       0  \n\n[5110 rows x 13 columns]",
      "text/html": "<div>\n<style scoped>\n    .dataframe tbody tr th:only-of-type {\n        vertical-align: middle;\n    }\n\n    .dataframe tbody tr th {\n        vertical-align: top;\n    }\n\n    .dataframe thead th {\n        text-align: right;\n    }\n</style>\n<table border=\"1\" class=\"dataframe\">\n  <thead>\n    <tr style=\"text-align: right;\">\n      <th></th>\n      <th>Unnamed: 0</th>\n      <th>id</th>\n      <th>gender</th>\n      <th>age</th>\n      <th>hypertension</th>\n      <th>heart_disease</th>\n      <th>ever_married</th>\n      <th>work_type</th>\n      <th>Residence_type</th>\n      <th>avg_glucose_level</th>\n      <th>bmi</th>\n      <th>smoking_status</th>\n      <th>stroke</th>\n    </tr>\n  </thead>\n  <tbody>\n    <tr>\n      <th>0</th>\n      <td>0</td>\n      <td>9046</td>\n      <td>Male</td>\n      <td>67.0</td>\n      <td>0</td>\n      <td>1</td>\n      <td>Yes</td>\n      <td>Private</td>\n      <td>Urban</td>\n      <td>228.69</td>\n      <td>36.6</td>\n      <td>formerly smoked</td>\n      <td>1</td>\n    </tr>\n    <tr>\n      <th>1</th>\n      <td>1</td>\n      <td>51676</td>\n      <td>Female</td>\n      <td>61.0</td>\n      <td>0</td>\n      <td>0</td>\n      <td>Yes</td>\n      <td>Self-employed</td>\n      <td>Rural</td>\n      <td>202.21</td>\n      <td>NaN</td>\n      <td>never smoked</td>\n      <td>1</td>\n    </tr>\n    <tr>\n      <th>2</th>\n      <td>2</td>\n      <td>31112</td>\n      <td>Male</td>\n      <td>80.0</td>\n      <td>0</td>\n      <td>1</td>\n      <td>Yes</td>\n      <td>Private</td>\n      <td>Rural</td>\n      <td>105.92</td>\n      <td>32.5</td>\n      <td>never smoked</td>\n      <td>1</td>\n    </tr>\n    <tr>\n      <th>3</th>\n      <td>3</td>\n      <td>60182</td>\n      <td>Female</td>\n      <td>49.0</td>\n      <td>0</td>\n      <td>0</td>\n      <td>Yes</td>\n      <td>Private</td>\n      <td>Urban</td>\n      <td>171.23</td>\n      <td>34.4</td>\n      <td>smokes</td>\n      <td>1</td>\n    </tr>\n    <tr>\n      <th>4</th>\n      <td>4</td>\n      <td>1665</td>\n      <td>Female</td>\n      <td>79.0</td>\n      <td>1</td>\n      <td>0</td>\n      <td>Yes</td>\n      <td>Self-employed</td>\n      <td>Rural</td>\n      <td>174.12</td>\n      <td>24.0</td>\n      <td>never smoked</td>\n      <td>1</td>\n    </tr>\n    <tr>\n      <th>...</th>\n      <td>...</td>\n      <td>...</td>\n      <td>...</td>\n      <td>...</td>\n      <td>...</td>\n      <td>...</td>\n      <td>...</td>\n      <td>...</td>\n      <td>...</td>\n      <td>...</td>\n      <td>...</td>\n      <td>...</td>\n      <td>...</td>\n    </tr>\n    <tr>\n      <th>5105</th>\n      <td>5105</td>\n      <td>18234</td>\n      <td>Female</td>\n      <td>80.0</td>\n      <td>1</td>\n      <td>0</td>\n      <td>Yes</td>\n      <td>Private</td>\n      <td>Urban</td>\n      <td>83.75</td>\n      <td>NaN</td>\n      <td>never smoked</td>\n      <td>0</td>\n    </tr>\n    <tr>\n      <th>5106</th>\n      <td>5106</td>\n      <td>44873</td>\n      <td>Female</td>\n      <td>81.0</td>\n      <td>0</td>\n      <td>0</td>\n      <td>Yes</td>\n      <td>Self-employed</td>\n      <td>Urban</td>\n      <td>125.20</td>\n      <td>40.0</td>\n      <td>never smoked</td>\n      <td>0</td>\n    </tr>\n    <tr>\n      <th>5107</th>\n      <td>5107</td>\n      <td>19723</td>\n      <td>Female</td>\n      <td>35.0</td>\n      <td>0</td>\n      <td>0</td>\n      <td>Yes</td>\n      <td>Self-employed</td>\n      <td>Rural</td>\n      <td>82.99</td>\n      <td>30.6</td>\n      <td>never smoked</td>\n      <td>0</td>\n    </tr>\n    <tr>\n      <th>5108</th>\n      <td>5108</td>\n      <td>37544</td>\n      <td>Male</td>\n      <td>51.0</td>\n      <td>0</td>\n      <td>0</td>\n      <td>Yes</td>\n      <td>Private</td>\n      <td>Rural</td>\n      <td>166.29</td>\n      <td>25.6</td>\n      <td>formerly smoked</td>\n      <td>0</td>\n    </tr>\n    <tr>\n      <th>5109</th>\n      <td>5109</td>\n      <td>44679</td>\n      <td>Female</td>\n      <td>44.0</td>\n      <td>0</td>\n      <td>0</td>\n      <td>Yes</td>\n      <td>Govt_job</td>\n      <td>Urban</td>\n      <td>85.28</td>\n      <td>26.2</td>\n      <td>Unknown</td>\n      <td>0</td>\n    </tr>\n  </tbody>\n</table>\n<p>5110 rows × 13 columns</p>\n</div>"
     },
     "execution_count": 25,
     "metadata": {},
     "output_type": "execute_result"
    }
   ],
   "source": [
    "#Read the csv file\n",
    "df = pd.read_csv('Stroke_Prediction_Dataset_from_Fedesoriano.csv')\n",
    "df"
   ],
   "metadata": {
    "collapsed": false,
    "pycharm": {
     "name": "#%%\n"
    }
   }
  },
  {
   "cell_type": "code",
   "execution_count": 26,
   "outputs": [
    {
     "data": {
      "text/plain": "      Unnamed: 0     id gender   age  hypertension  heart_disease  \\\n0              0   9046      1  67.0             0              1   \n2              2  31112      1  80.0             0              1   \n3              3  60182      0  49.0             0              0   \n4              4   1665      0  79.0             1              0   \n5              5  56669      1  81.0             0              0   \n...          ...    ...    ...   ...           ...            ...   \n5100        5100  68398      1  82.0             1              0   \n5102        5102  45010      0  57.0             0              0   \n5106        5106  44873      0  81.0             0              0   \n5107        5107  19723      0  35.0             0              0   \n5108        5108  37544      1  51.0             0              0   \n\n     ever_married      work_type Residence_type  avg_glucose_level   bmi  \\\n0             Yes        Private          Urban             228.69  36.6   \n2             Yes        Private          Rural             105.92  32.5   \n3             Yes        Private          Urban             171.23  34.4   \n4             Yes  Self-employed          Rural             174.12  24.0   \n5             Yes        Private          Urban             186.21  29.0   \n...           ...            ...            ...                ...   ...   \n5100          Yes  Self-employed          Rural              71.97  28.3   \n5102          Yes        Private          Rural              77.93  21.7   \n5106          Yes  Self-employed          Urban             125.20  40.0   \n5107          Yes  Self-employed          Rural              82.99  30.6   \n5108          Yes        Private          Rural             166.29  25.6   \n\n     smoking_status  stroke  \n0                 1       1  \n2                 0       1  \n3                 2       1  \n4                 0       1  \n5                 1       1  \n...             ...     ...  \n5100              0       0  \n5102              0       0  \n5106              0       0  \n5107              0       0  \n5108              1       0  \n\n[3426 rows x 13 columns]",
      "text/html": "<div>\n<style scoped>\n    .dataframe tbody tr th:only-of-type {\n        vertical-align: middle;\n    }\n\n    .dataframe tbody tr th {\n        vertical-align: top;\n    }\n\n    .dataframe thead th {\n        text-align: right;\n    }\n</style>\n<table border=\"1\" class=\"dataframe\">\n  <thead>\n    <tr style=\"text-align: right;\">\n      <th></th>\n      <th>Unnamed: 0</th>\n      <th>id</th>\n      <th>gender</th>\n      <th>age</th>\n      <th>hypertension</th>\n      <th>heart_disease</th>\n      <th>ever_married</th>\n      <th>work_type</th>\n      <th>Residence_type</th>\n      <th>avg_glucose_level</th>\n      <th>bmi</th>\n      <th>smoking_status</th>\n      <th>stroke</th>\n    </tr>\n  </thead>\n  <tbody>\n    <tr>\n      <th>0</th>\n      <td>0</td>\n      <td>9046</td>\n      <td>1</td>\n      <td>67.0</td>\n      <td>0</td>\n      <td>1</td>\n      <td>Yes</td>\n      <td>Private</td>\n      <td>Urban</td>\n      <td>228.69</td>\n      <td>36.6</td>\n      <td>1</td>\n      <td>1</td>\n    </tr>\n    <tr>\n      <th>2</th>\n      <td>2</td>\n      <td>31112</td>\n      <td>1</td>\n      <td>80.0</td>\n      <td>0</td>\n      <td>1</td>\n      <td>Yes</td>\n      <td>Private</td>\n      <td>Rural</td>\n      <td>105.92</td>\n      <td>32.5</td>\n      <td>0</td>\n      <td>1</td>\n    </tr>\n    <tr>\n      <th>3</th>\n      <td>3</td>\n      <td>60182</td>\n      <td>0</td>\n      <td>49.0</td>\n      <td>0</td>\n      <td>0</td>\n      <td>Yes</td>\n      <td>Private</td>\n      <td>Urban</td>\n      <td>171.23</td>\n      <td>34.4</td>\n      <td>2</td>\n      <td>1</td>\n    </tr>\n    <tr>\n      <th>4</th>\n      <td>4</td>\n      <td>1665</td>\n      <td>0</td>\n      <td>79.0</td>\n      <td>1</td>\n      <td>0</td>\n      <td>Yes</td>\n      <td>Self-employed</td>\n      <td>Rural</td>\n      <td>174.12</td>\n      <td>24.0</td>\n      <td>0</td>\n      <td>1</td>\n    </tr>\n    <tr>\n      <th>5</th>\n      <td>5</td>\n      <td>56669</td>\n      <td>1</td>\n      <td>81.0</td>\n      <td>0</td>\n      <td>0</td>\n      <td>Yes</td>\n      <td>Private</td>\n      <td>Urban</td>\n      <td>186.21</td>\n      <td>29.0</td>\n      <td>1</td>\n      <td>1</td>\n    </tr>\n    <tr>\n      <th>...</th>\n      <td>...</td>\n      <td>...</td>\n      <td>...</td>\n      <td>...</td>\n      <td>...</td>\n      <td>...</td>\n      <td>...</td>\n      <td>...</td>\n      <td>...</td>\n      <td>...</td>\n      <td>...</td>\n      <td>...</td>\n      <td>...</td>\n    </tr>\n    <tr>\n      <th>5100</th>\n      <td>5100</td>\n      <td>68398</td>\n      <td>1</td>\n      <td>82.0</td>\n      <td>1</td>\n      <td>0</td>\n      <td>Yes</td>\n      <td>Self-employed</td>\n      <td>Rural</td>\n      <td>71.97</td>\n      <td>28.3</td>\n      <td>0</td>\n      <td>0</td>\n    </tr>\n    <tr>\n      <th>5102</th>\n      <td>5102</td>\n      <td>45010</td>\n      <td>0</td>\n      <td>57.0</td>\n      <td>0</td>\n      <td>0</td>\n      <td>Yes</td>\n      <td>Private</td>\n      <td>Rural</td>\n      <td>77.93</td>\n      <td>21.7</td>\n      <td>0</td>\n      <td>0</td>\n    </tr>\n    <tr>\n      <th>5106</th>\n      <td>5106</td>\n      <td>44873</td>\n      <td>0</td>\n      <td>81.0</td>\n      <td>0</td>\n      <td>0</td>\n      <td>Yes</td>\n      <td>Self-employed</td>\n      <td>Urban</td>\n      <td>125.20</td>\n      <td>40.0</td>\n      <td>0</td>\n      <td>0</td>\n    </tr>\n    <tr>\n      <th>5107</th>\n      <td>5107</td>\n      <td>19723</td>\n      <td>0</td>\n      <td>35.0</td>\n      <td>0</td>\n      <td>0</td>\n      <td>Yes</td>\n      <td>Self-employed</td>\n      <td>Rural</td>\n      <td>82.99</td>\n      <td>30.6</td>\n      <td>0</td>\n      <td>0</td>\n    </tr>\n    <tr>\n      <th>5108</th>\n      <td>5108</td>\n      <td>37544</td>\n      <td>1</td>\n      <td>51.0</td>\n      <td>0</td>\n      <td>0</td>\n      <td>Yes</td>\n      <td>Private</td>\n      <td>Rural</td>\n      <td>166.29</td>\n      <td>25.6</td>\n      <td>1</td>\n      <td>0</td>\n    </tr>\n  </tbody>\n</table>\n<p>3426 rows × 13 columns</p>\n</div>"
     },
     "execution_count": 26,
     "metadata": {},
     "output_type": "execute_result"
    }
   ],
   "source": [
    "#Preparing the data\n",
    "\n",
    "#Replacing categorical by binary value\n",
    "df.smoking_status.replace(('never smoked', 'formerly smoked', 'smokes'), (0, 1, 2), inplace = True)\n",
    "df.gender.replace(('Male', 'Female'), (1, 0), inplace = True)\n",
    "\n",
    "#Deleting observations with unknown values\n",
    "df.drop(df[df['smoking_status'] == 'Unknown'].index, inplace = True)\n",
    "df = df.dropna()\n",
    "df"
   ],
   "metadata": {
    "collapsed": false,
    "pycharm": {
     "name": "#%%\n"
    }
   }
  },
  {
   "cell_type": "code",
   "execution_count": 27,
   "outputs": [
    {
     "data": {
      "text/plain": "        Unnamed: 0            id          age  hypertension  heart_disease  \\\ncount  3426.000000   3426.000000  3426.000000   3426.000000    3426.000000   \nmean   2538.059253  37339.006130    48.645943      0.119089       0.060128   \nstd    1488.226479  21049.976345    18.851239      0.323941       0.237759   \nmin       0.000000     84.000000    10.000000      0.000000       0.000000   \n25%    1230.500000  18997.500000    34.000000      0.000000       0.000000   \n50%    2538.500000  38068.500000    50.000000      0.000000       0.000000   \n75%    3830.750000  55464.250000    63.000000      0.000000       0.000000   \nmax    5108.000000  72915.000000    82.000000      1.000000       1.000000   \n\n       avg_glucose_level          bmi       stroke  \ncount        3426.000000  3426.000000  3426.000000  \nmean          108.321891    30.290047     0.052539  \nstd            47.703541     7.295958     0.223145  \nmin            55.120000    11.500000     0.000000  \n25%            77.237500    25.300000     0.000000  \n50%            92.360000    29.100000     0.000000  \n75%           116.207500    34.100000     0.000000  \nmax           271.740000    92.000000     1.000000  ",
      "text/html": "<div>\n<style scoped>\n    .dataframe tbody tr th:only-of-type {\n        vertical-align: middle;\n    }\n\n    .dataframe tbody tr th {\n        vertical-align: top;\n    }\n\n    .dataframe thead th {\n        text-align: right;\n    }\n</style>\n<table border=\"1\" class=\"dataframe\">\n  <thead>\n    <tr style=\"text-align: right;\">\n      <th></th>\n      <th>Unnamed: 0</th>\n      <th>id</th>\n      <th>age</th>\n      <th>hypertension</th>\n      <th>heart_disease</th>\n      <th>avg_glucose_level</th>\n      <th>bmi</th>\n      <th>stroke</th>\n    </tr>\n  </thead>\n  <tbody>\n    <tr>\n      <th>count</th>\n      <td>3426.000000</td>\n      <td>3426.000000</td>\n      <td>3426.000000</td>\n      <td>3426.000000</td>\n      <td>3426.000000</td>\n      <td>3426.000000</td>\n      <td>3426.000000</td>\n      <td>3426.000000</td>\n    </tr>\n    <tr>\n      <th>mean</th>\n      <td>2538.059253</td>\n      <td>37339.006130</td>\n      <td>48.645943</td>\n      <td>0.119089</td>\n      <td>0.060128</td>\n      <td>108.321891</td>\n      <td>30.290047</td>\n      <td>0.052539</td>\n    </tr>\n    <tr>\n      <th>std</th>\n      <td>1488.226479</td>\n      <td>21049.976345</td>\n      <td>18.851239</td>\n      <td>0.323941</td>\n      <td>0.237759</td>\n      <td>47.703541</td>\n      <td>7.295958</td>\n      <td>0.223145</td>\n    </tr>\n    <tr>\n      <th>min</th>\n      <td>0.000000</td>\n      <td>84.000000</td>\n      <td>10.000000</td>\n      <td>0.000000</td>\n      <td>0.000000</td>\n      <td>55.120000</td>\n      <td>11.500000</td>\n      <td>0.000000</td>\n    </tr>\n    <tr>\n      <th>25%</th>\n      <td>1230.500000</td>\n      <td>18997.500000</td>\n      <td>34.000000</td>\n      <td>0.000000</td>\n      <td>0.000000</td>\n      <td>77.237500</td>\n      <td>25.300000</td>\n      <td>0.000000</td>\n    </tr>\n    <tr>\n      <th>50%</th>\n      <td>2538.500000</td>\n      <td>38068.500000</td>\n      <td>50.000000</td>\n      <td>0.000000</td>\n      <td>0.000000</td>\n      <td>92.360000</td>\n      <td>29.100000</td>\n      <td>0.000000</td>\n    </tr>\n    <tr>\n      <th>75%</th>\n      <td>3830.750000</td>\n      <td>55464.250000</td>\n      <td>63.000000</td>\n      <td>0.000000</td>\n      <td>0.000000</td>\n      <td>116.207500</td>\n      <td>34.100000</td>\n      <td>0.000000</td>\n    </tr>\n    <tr>\n      <th>max</th>\n      <td>5108.000000</td>\n      <td>72915.000000</td>\n      <td>82.000000</td>\n      <td>1.000000</td>\n      <td>1.000000</td>\n      <td>271.740000</td>\n      <td>92.000000</td>\n      <td>1.000000</td>\n    </tr>\n  </tbody>\n</table>\n</div>"
     },
     "execution_count": 27,
     "metadata": {},
     "output_type": "execute_result"
    }
   ],
   "source": [
    "#Gather information about dataset\n",
    "df.describe()"
   ],
   "metadata": {
    "collapsed": false,
    "pycharm": {
     "name": "#%%\n"
    }
   }
  },
  {
   "cell_type": "markdown",
   "source": [
    "We will try to make a machine learning classification algorithm\n",
    "0 = No stroke\n",
    "1 = Stroke"
   ],
   "metadata": {
    "collapsed": false,
    "pycharm": {
     "name": "#%% md\n"
    }
   }
  },
  {
   "cell_type": "code",
   "execution_count": 28,
   "outputs": [
    {
     "data": {
      "text/plain": "<Figure size 432x288 with 1 Axes>",
      "image/png": "[encoded data removed]"
     },
     "metadata": {
      "needs_background": "light"
     },
     "output_type": "display_data"
    }
   ],
   "source": [
    "plt.scatter(df.avg_glucose_level, df.stroke)\n",
    "plt.xlabel('Glucose level')\n",
    "plt.ylabel('Prob of Stroke')\n",
    "plt.title('Glucose level vs. Prob of Stroke')\n",
    "plt.show()"
   ],
   "metadata": {
    "collapsed": false,
    "pycharm": {
     "name": "#%%\n"
    }
   }
  },
  {
   "cell_type": "code",
   "execution_count": 29,
   "outputs": [],
   "source": [
    "x_train, x_test, y_train, y_test = train_test_split(df.avg_glucose_level, df.stroke, test_size=0.4, random_state=321)"
   ],
   "metadata": {
    "collapsed": false,
    "pycharm": {
     "name": "#%%\n"
    }
   }
  },
  {
   "cell_type": "code",
   "execution_count": 30,
   "outputs": [],
   "source": [
    "x_train_array = np.array(x_train).reshape(-1,1)\n",
    "logistic = LogisticRegression()\n",
    "model = logistic.fit(x_train_array, y_train)"
   ],
   "metadata": {
    "collapsed": false,
    "pycharm": {
     "name": "#%%\n"
    }
   }
  },
  {
   "cell_type": "code",
   "execution_count": 33,
   "outputs": [
    {
     "name": "stdout",
     "output_type": "stream",
     "text": [
      "[[0.00743113]]\n"
     ]
    }
   ],
   "source": [
    "print(model.coef_)"
   ],
   "metadata": {
    "collapsed": false,
    "pycharm": {
     "name": "#%%\n"
    }
   }
  },
  {
   "cell_type": "code",
   "execution_count": 32,
   "outputs": [
    {
     "name": "stdout",
     "output_type": "stream",
     "text": [
      "Accuracy: 0.942\n",
      "Precision: 0.0\n",
      "Recall: 0.0\n"
     ]
    },
    {
     "name": "stderr",
     "output_type": "stream",
     "text": [
      "C:\\Users\\Durand\\AppData\\Local\\Programs\\Python\\Python39\\lib\\site-packages\\sklearn\\metrics\\_classification.py:1318: UndefinedMetricWarning: Precision is ill-defined and being set to 0.0 due to no predicted samples. Use `zero_division` parameter to control this behavior.\n",
      "  _warn_prf(average, modifier, msg_start, len(result))\n"
     ]
    }
   ],
   "source": [
    "# Reshape data\n",
    "x_test_array = np.array(x_test).reshape(-1,1)# Model performance\n",
    "print(\"Accuracy:\", round(accuracy_score(y_test, model.predict(x_test_array)), 3))\n",
    "print(\"Precision:\", round(precision_score(y_test, model.predict(x_test_array)),3))\n",
    "print(\"Recall:\", round(recall_score(y_test, model.predict(x_test_array)),3))"
   ],
   "metadata": {
    "collapsed": false,
    "pycharm": {
     "name": "#%%\n"
    }
   }
  },
  {
   "cell_type": "code",
   "execution_count": 23,
   "outputs": [
    {
     "ename": "SyntaxError",
     "evalue": "invalid syntax (318242950.py, line 51)",
     "output_type": "error",
     "traceback": [
      "\u001B[1;36m  Input \u001B[1;32mIn [23]\u001B[1;36m\u001B[0m\n\u001B[1;33m    view raw\u001B[0m\n\u001B[1;37m         ^\u001B[0m\n\u001B[1;31mSyntaxError\u001B[0m\u001B[1;31m:\u001B[0m invalid syntax\n"
     ]
    }
   ],
   "source": [
    "\n",
    "# import packages\n",
    "import numpy as np\n",
    "import pandas as pd\n",
    "from sklearn.metrics import accuracy_score, precision_score, recall_score\n",
    "from sklearn.linear_model import LogisticRegression\n",
    "from sklearn.model_selection import train_test_split\n",
    "import matplotlib.pyplot as plt\n",
    "\n",
    "# Create sample data\n",
    "data = {'hoursOfStudy': [1, 2, 3, 3, 5, 8, 9, 10, 11, 12, 13, 13, 17, 19, 21, 22, 23, 23, 24, 26, 27, 29, 30, 34, 36, 37, 39, 40, 42, 47],\n",
    "        'passing': [0, 0, 0, 0, 0, 0, 0, 0, 0, 0, 0, 0, 1, 0, 0, 0, 0, 1, 1, 1, 1, 1, 0, 1, 1, 1, 1, 1, 1, 1]}\n",
    "df = pd.DataFrame(data)\n",
    "\n",
    "# Data visualization\n",
    "plt.scatter(df.hoursOfStudy, df.passing)\n",
    "plt.xticks([0,10,20,30,40,50])\n",
    "plt.xlabel('Hours of study')\n",
    "plt.ylabel('Prob of passing exam')\n",
    "plt.title('Hours of study vs. Prob of passing exam')\n",
    "plt.show()\n",
    "\n",
    "# Train/Test split\n",
    "x_train, x_test, y_train, y_test = train_test_split(df.hoursOfStudy, df.passing, test_size=0.4, random_state=321)\n",
    "\n",
    "# Logistic regression model\n",
    "x_train_array = np.array(x_train).reshape(-1,1)\n",
    "logistic = LogisticRegression()\n",
    "model = logistic.fit(x_train_array, y_train)\n",
    "\n",
    "# View coefficients\n",
    "print(model.coef_)\n",
    "\n",
    "# Reshape indep variables of testing data\n",
    "x_test_array = np.array(x_test).reshape(-1,1)\n",
    "\n",
    "# Model performance\n",
    "print(\"Accuracy:\", round(accuracy_score(y_test, model.predict(x_test_array)), 3))\n",
    "print(\"Precision:\", round(precision_score(y_test, model.predict(x_test_array)),3))\n",
    "print(\"Recall:\", round(recall_score(y_test, model.predict(x_test_array)),3))\n",
    "\n",
    "# Visualization of testing set\n",
    "plt.scatter(x_test_array[predict == y_test], y_test[predict == y_test], c='blue', label='Correct')\n",
    "plt.scatter(x_test_array[predict != y_test], y_test[predict != y_test], c='red', label='Incorrect')\n",
    "plt.legend()\n",
    "plt.xticks([0,10,20,30,40,50])\n",
    "plt.xlabel('Hours of study')\n",
    "plt.ylabel('Prob of passing exam')\n",
    "plt.title('Hours of study vs. Prob of passing exam of testing set')\n",
    "plt.show()\n",
    "\n",
    "view raw\n",
    "logistic_regression_example.py hosted with ❤ by GitHub\n"
   ],
   "metadata": {
    "collapsed": false,
    "pycharm": {
     "name": "#%%\n"
    }
   }
  },
  {
   "cell_type": "code",
   "execution_count": null,
   "outputs": [],
   "source": [],
   "metadata": {
    "collapsed": false,
    "pycharm": {
     "name": "#%%\n"
    }
   }
  }
 ],
 "metadata": {
  "kernelspec": {
   "display_name": "Python 3",
   "language": "python",
   "name": "python3"
  },
  "language_info": {
   "codemirror_mode": {
    "name": "ipython",
    "version": 2
   },
   "file_extension": ".py",
   "mimetype": "text/x-python",
   "name": "python",
   "nbconvert_exporter": "python",
   "pygments_lexer": "ipython2",
   "version": "2.7.6"
  }
 },
 "nbformat": 4,
 "nbformat_minor": 0
}